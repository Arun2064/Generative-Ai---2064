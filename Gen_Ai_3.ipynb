{
  "nbformat": 4,
  "nbformat_minor": 0,
  "metadata": {
    "colab": {
      "provenance": [],
      "authorship_tag": "ABX9TyOJfQxgXQyGL9G4s6vod7fh",
      "include_colab_link": true
    },
    "kernelspec": {
      "name": "python3",
      "display_name": "Python 3"
    },
    "language_info": {
      "name": "python"
    }
  },
  "cells": [
    {
      "cell_type": "markdown",
      "metadata": {
        "id": "view-in-github",
        "colab_type": "text"
      },
      "source": [
        "<a href=\"https://colab.research.google.com/github/Arun2064/Generative-Ai---2064/blob/main/Gen_Ai_3.ipynb\" target=\"_parent\"><img src=\"https://colab.research.google.com/assets/colab-badge.svg\" alt=\"Open In Colab\"/></a>"
      ]
    },
    {
      "cell_type": "markdown",
      "source": [
        "1st"
      ],
      "metadata": {
        "id": "cu-N82beVOZ5"
      }
    },
    {
      "cell_type": "code",
      "source": [
        "\n",
        "def f_prime(x):\n",
        "    return 20 * x**3 + 6 * x\n",
        "\n",
        "\n",
        "def gradient_descent(x, learning_rate, max_iterations, tolerance):\n",
        "    for i in range(max_iterations):\n",
        "        gradient = f_prime(x)\n",
        "        x_new = x - learning_rate * gradient\n",
        "        if abs(x_new - x) < tolerance:\n",
        "            return x_new, i + 1\n",
        "        x = x_new\n",
        "    return x, max_iterations\n",
        "\n",
        "x_initial = 2.0\n",
        "learning_rate = 0.01\n",
        "max_iterations = 1000\n",
        "tolerance = 1e-6\n",
        "\n",
        "min_x, iterations = gradient_descent(x_initial, learning_rate, max_iterations, tolerance)\n",
        "min_f = 5 * min_x**4 + 3 * min_x**2 + 10\n",
        "\n",
        "print(f\"Minimum x: {min_x}\")\n",
        "print(f\"Function value at minimum x: {min_f}\")\n",
        "print(f\"Converged in {iterations} iterations.\")\n"
      ],
      "metadata": {
        "colab": {
          "base_uri": "https://localhost:8080/"
        },
        "id": "pFl70k__RYgj",
        "outputId": "d59b6e2c-5e74-42dd-c18f-70af9578bca1"
      },
      "execution_count": 2,
      "outputs": [
        {
          "output_type": "stream",
          "name": "stdout",
          "text": [
            "Minimum x: 1.4890329960269161e-05\n",
            "Function value at minimum x: 10.000000000665166\n",
            "Converged in 158 iterations.\n"
          ]
        }
      ]
    },
    {
      "cell_type": "markdown",
      "source": [
        "2nd"
      ],
      "metadata": {
        "id": "0loOMz3uVLM7"
      }
    },
    {
      "cell_type": "code",
      "source": [
        "def g_x(x):\n",
        "    return 6 * x\n",
        "def g_y(y):\n",
        "    return -5 * (2.71828**(-y))\n",
        "def gradient_descent_2d(x, y, learning_rate, max_iterations, tolerance):\n",
        "    for i in range(max_iterations):\n",
        "\n",
        "        grad_x = g_x(x)\n",
        "        grad_y = g_y(y)\n",
        "        x_new = x - learning_rate * grad_x\n",
        "        y_new = y - learning_rate * grad_y\n",
        "\n",
        "\n",
        "        if abs(x_new - x) < tolerance and abs(y_new - y) < tolerance:\n",
        "            return x_new, y_new, i + 1\n",
        "        x, y = x_new, y_new\n",
        "\n",
        "    return x, y, max_iterations\n",
        "\n",
        "x_initial = 1.0\n",
        "y_initial = 1.0\n",
        "learning_rate = 0.01\n",
        "max_iterations = 1000\n",
        "tolerance = 1e-6\n",
        "min_x, min_y, iterations = gradient_descent_2d(x_initial, y_initial, learning_rate, max_iterations, tolerance)\n",
        "min_g = 3 * min_x**2 + 5 * (2.71828**(-min_y)) + 10\n",
        "\n",
        "print(f\"Minimum x: {min_x}\")\n",
        "print(f\"Minimum y: {min_y}\")\n",
        "print(f\"Function value at minimum: {min_g}\")\n",
        "print(f\"Converged in {iterations} iterations.\")\n"
      ],
      "metadata": {
        "colab": {
          "base_uri": "https://localhost:8080/"
        },
        "id": "SxH4BDSETQJk",
        "outputId": "19b33939-5c0f-4de4-9e4e-4bedde7f4119"
      },
      "execution_count": 3,
      "outputs": [
        {
          "output_type": "stream",
          "name": "stdout",
          "text": [
            "Minimum x: 1.3423123924933694e-27\n",
            "Minimum y: 3.966372788969171\n",
            "Function value at minimum: 10.094710329515651\n",
            "Converged in 1000 iterations.\n"
          ]
        }
      ]
    },
    {
      "cell_type": "markdown",
      "source": [
        "3rd"
      ],
      "metadata": {
        "id": "nY6AtKM7Yvck"
      }
    },
    {
      "cell_type": "code",
      "source": [
        "\n",
        "def z(x):\n",
        "    return 1 / (1 + 2.71828**(-x))\n",
        "\n",
        "def z_prime(x):\n",
        "    sigmoid = z(x)\n",
        "    return sigmoid * (1 - sigmoid)\n",
        "\n",
        "\n",
        "def gradient_descent(initial_x, learning_rate, max_iterations, tolerance):\n",
        "    x = initial_x\n",
        "    for i in range(max_iterations):\n",
        "        gradient = z_prime(x)\n",
        "        x_new = x - learning_rate * gradient\n",
        "\n",
        "\n",
        "        if abs(x_new - x) < tolerance:\n",
        "            return x_new, i + 1\n",
        "\n",
        "        x = x_new\n",
        "\n",
        "    return x, max_iterations\n",
        "\n",
        "initial_x = 0.0\n",
        "learning_rate = 0.1\n",
        "max_iterations = 1000\n",
        "tolerance = 1e-6\n",
        "\n",
        "min_x, iterations = gradient_descent(initial_x, learning_rate, max_iterations, tolerance)\n",
        "\n",
        "print(f\"Minimum x: {min_x}\")\n",
        "print(f\"Converged in {iterations} iterations.\")\n"
      ],
      "metadata": {
        "colab": {
          "base_uri": "https://localhost:8080/"
        },
        "id": "JMGvXz44YxDX",
        "outputId": "e82842fb-1f82-4300-9d20-77330299d257"
      },
      "execution_count": 4,
      "outputs": [
        {
          "output_type": "stream",
          "name": "stdout",
          "text": [
            "Minimum x: -4.512438801965497\n",
            "Converged in 1000 iterations.\n"
          ]
        }
      ]
    },
    {
      "cell_type": "markdown",
      "source": [
        "4th"
      ],
      "metadata": {
        "id": "WUGhhvWnZJD3"
      }
    },
    {
      "cell_type": "code",
      "source": [
        "\n",
        "# y= mx+c\n",
        ""
      ],
      "metadata": {
        "id": "qDc4InHBebvB"
      },
      "execution_count": 6,
      "outputs": []
    },
    {
      "cell_type": "code",
      "source": [
        "import random\n",
        "\n",
        "eta=0.001\n",
        "epochs = 1000\n",
        "m=random.uniform(-10,10)\n",
        "c=random.uniform(-10,10)\n",
        "x=2\n",
        "ep=0.5\n",
        "se=0"
      ],
      "metadata": {
        "id": "BPtFyCrIenju"
      },
      "execution_count": 8,
      "outputs": []
    },
    {
      "cell_type": "code",
      "source": [
        "for i in range(epochs):\n",
        "  grad_x=x\n",
        "  grad_y=1\n",
        "  delx=-eta*grad_x\n",
        "  dely=-eta*grad_y\n",
        "  m=m+delx\n",
        "  c=c+dely\n",
        "  y=m*x+c\n",
        "  se=min(se,(y-ep)**2)"
      ],
      "metadata": {
        "id": "r-aJki-keskG"
      },
      "execution_count": 9,
      "outputs": []
    },
    {
      "cell_type": "code",
      "source": [
        "print(np.round(m))\n",
        "print(np.round(c))\n",
        ""
      ],
      "metadata": {
        "colab": {
          "base_uri": "https://localhost:8080/"
        },
        "id": "w3tD2mXJex3c",
        "outputId": "803fa929-811f-4a2e-a2a2-21f5f2293eee"
      },
      "execution_count": 10,
      "outputs": [
        {
          "output_type": "stream",
          "name": "stdout",
          "text": [
            "6.0\n",
            "1.0\n"
          ]
        }
      ]
    },
    {
      "cell_type": "code",
      "source": [
        "print(se)"
      ],
      "metadata": {
        "colab": {
          "base_uri": "https://localhost:8080/"
        },
        "id": "w0SUtGkfe6SU",
        "outputId": "42f04a6b-1d48-4d69-e59b-8579c26d7ef9"
      },
      "execution_count": 11,
      "outputs": [
        {
          "output_type": "stream",
          "name": "stdout",
          "text": [
            "0\n"
          ]
        }
      ]
    }
  ]
}